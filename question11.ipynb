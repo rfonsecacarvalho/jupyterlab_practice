{
 "cells": [
  {
   "cell_type": "markdown",
   "id": "3d73353d-6c2e-491f-bf89-3056040fdd6b",
   "metadata": {},
   "source": [
    "# Roberta Bukowski\n",
    "Notebook for assignment 7"
   ]
  },
  {
   "cell_type": "code",
   "execution_count": 1,
   "id": "c63484d7-15ac-4325-824f-d5320c7a51bb",
   "metadata": {},
   "outputs": [
    {
     "name": "stdout",
     "output_type": "stream",
     "text": [
      "5.0\n"
     ]
    }
   ],
   "source": [
    "def compute_mean(numbers):\n",
    "    return sum(numbers) / len(numbers)\n",
    "\n",
    "# Call the function\n",
    "print(compute_mean([2, 4, 6, 8]))"
   ]
  },
  {
   "cell_type": "markdown",
   "id": "1908748b-31a6-461d-9545-d5eeb3f39e06",
   "metadata": {},
   "source": [
    "This code defines and uses a function `compute_mean` to compute the average of a list of numbers. The mean is calculated as the sum of all numbers divided by the count of numbers.\n",
    "\n",
    "- The mean, often represented as$(\\bar{x})$can be mathematically expressed in the following two ways:\n",
    "\n",
    "**Using the sum notation:**\n",
    "  $$ (\\bar{x} = \\frac{1}{n} \\sum_{i=1}^n x_i)$$\n",
    "**Using the division notation:**\n",
    "$$ (\\bar{x} = \\frac{1}{n}(x_1 + x_2 + \\ldots + x_n))$$\n"
   ]
  }
 ],
 "metadata": {
  "kernelspec": {
   "display_name": "Python 3 (ipykernel)",
   "language": "python",
   "name": "python3"
  },
  "language_info": {
   "codemirror_mode": {
    "name": "ipython",
    "version": 3
   },
   "file_extension": ".py",
   "mimetype": "text/x-python",
   "name": "python",
   "nbconvert_exporter": "python",
   "pygments_lexer": "ipython3",
   "version": "3.10.13"
  }
 },
 "nbformat": 4,
 "nbformat_minor": 5
}
